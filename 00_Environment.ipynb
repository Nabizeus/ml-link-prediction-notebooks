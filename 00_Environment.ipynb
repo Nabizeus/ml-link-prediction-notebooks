{
  "cells": [
    {
      "cell_type": "markdown",
      "metadata": {
        "pycharm": {}
      },
      "source": "# Setting up your environment\n\nIn this notebook you will set up your python environment for the course.\n\n## Libraries\n\nFirst you will install some libraries that are required for the exercises.\n\nRun this first command in the notebook by clicking the run cell icon to the left of the command: \n"
    },
    {
      "cell_type": "code",
      "execution_count": null,
      "metadata": {
        "pycharm": {}
      },
      "outputs": [],
      "source": [
        "!pip install py2neo pandas matplotlib sklearn"
      ]
    },
    {
      "cell_type": "markdown",
      "metadata": {
        "pycharm": {}
      },
      "source": "\nIf you see warnings or errors when you run this command, re-run the command. It should run with no errors.\n\nStart by importing py2neo library which you will use to import the data into Neo4j. py2neo is a client library and toolkit for working with Neo4j from within Python applications. It is well suited for Data Science workflows and has great integration with other Python Data Science tools. Run this cell:"
    },
    {
      "cell_type": "code",
      "execution_count": null,
      "metadata": {
        "pycharm": {}
      },
      "outputs": [],
      "source": [
        "from py2neo import Graph"
      ]
    },
    {
      "cell_type": "markdown",
      "metadata": {
        "pycharm": {}
      },
      "source": "## Neo4j Desktop\n\nYou should already have a Neo4j Database started. Change the password below to the one you chose when you created the database instance.\n"
    },
    {
      "cell_type": "code",
      "execution_count": null,
      "metadata": {
        "pycharm": {}
      },
      "outputs": [],
      "source": "# Change the line of code below to use the Bolt URL,  and Password of your Neo4j database instance.\n# graph \u003d Graph(\"\u003cBolt URL\u003e\", auth\u003d(\"neo4j\", \"\u003cPassword\u003e\")) \n \ngraph \u003d Graph(\"bolt://localhost:7687\", auth\u003d(\"neo4j\", \"letmein\"))"
    },
    {
      "cell_type": "markdown",
      "metadata": {
        "pycharm": {}
      },
      "source": "\nIf that works fine, and no exceptions are thrown, you have verified that you can connect to the Neo4j database from your notebook and you are ready to continue with the rest of the course!\n\nIf the connection fails, check to make sure you are using the correct password for the database and that the database is started.\n\n**Keep this notebook open as you will need to copy the credentials into the other notebooks!**"
    },
    {
      "cell_type": "code",
      "execution_count": null,
      "metadata": {
        "pycharm": {}
      },
      "outputs": [],
      "source": []
    }
  ],
  "metadata": {
    "kernelspec": {
      "display_name": "Python 3",
      "language": "python",
      "name": "python3"
    },
    "language_info": {
      "codemirror_mode": {
        "name": "ipython",
        "version": 3
      },
      "file_extension": ".py",
      "mimetype": "text/x-python",
      "name": "python",
      "nbconvert_exporter": "python",
      "pygments_lexer": "ipython3",
      "version": "3.8.2"
    }
  },
  "nbformat": 4,
  "nbformat_minor": 2
}